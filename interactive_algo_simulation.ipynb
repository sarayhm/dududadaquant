{
 "cells": [
  {
   "cell_type": "code",
   "execution_count": null,
   "metadata": {},
   "outputs": [],
   "source": [
    "import pandas as pd\n",
    "from pandas import DataFrame\n",
    "from alpha_vantage.timeseries import TimeSeries\n",
    "from alpha_vantage.techindicators import TechIndicators\n",
    "import os\n",
    "from dotenv import load_dotenv\n",
    "import numpy as np\n",
    "import matplotlib.pyplot as plt\n",
    "# Importing hidden API Key.\n",
    "load_dotenv()\n",
    "api_key = os.getenv(\"API_KEY\")\n",
    "\n",
    "\n",
    "\n",
    "ts = TimeSeries(key = api_key, output_format = \"pandas\")\n",
    "data, meta_data = ts.get_intraday(symbol='MSFT',interval='60min', outputsize='full')\n",
    "data.sort_index(ascending = True, inplace = True)\n",
    "print(data)\n",
    "\n",
    "ti = TechIndicators(key = api_key, output_format = 'pandas')\n",
    "sma, sma_data = ti.get_sma(symbol='MSFT', interval='60min', time_period='60')\n",
    "sma.sort_index(ascending = True, inplace = True)\n",
    "print(sma)\n",
    "\n",
    "agg = data.join(sma, on = \"date\")\n",
    "agg.dropna(inplace = True)\n",
    "print(agg)\n",
    "\n",
    "\n",
    "ser1 = pd.Series(data['4. close'])\n",
    "ser2 = pd.Series(sma['SMA'])\n",
    "ser3 = pd.Series(data.reset_index()['date'])\n",
    "\n",
    "fig = plt.figure()\n",
    "ax1 = fig.add_subplot(111)\n",
    "\n",
    "ax1.plot(agg.index, agg[\"4. close\"], c='b', label='msft')\n",
    "ax1.plot(agg.index, agg[\"SMA\"], c='r', label='sma_msft')\n",
    "plt.legend(loc='upper left');\n",
    "plt.show()"
   ]
  }
 ],
 "metadata": {
  "kernelspec": {
   "display_name": "Python 3",
   "language": "python",
   "name": "python3"
  },
  "language_info": {
   "codemirror_mode": {
    "name": "ipython",
    "version": 3
   },
   "file_extension": ".py",
   "mimetype": "text/x-python",
   "name": "python",
   "nbconvert_exporter": "python",
   "pygments_lexer": "ipython3",
   "version": "3.8.3"
  }
 },
 "nbformat": 4,
 "nbformat_minor": 2
}
